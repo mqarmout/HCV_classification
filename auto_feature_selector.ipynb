{
 "cells": [
  {
   "cell_type": "code",
   "execution_count": 1,
   "metadata": {},
   "outputs": [],
   "source": [
    "import numpy as np\n",
    "import pandas as pd\n",
    "from sklearn.feature_selection import SelectKBest, chi2, RFE, SelectFromModel\n",
    "from sklearn.preprocessing import MinMaxScaler\n",
    "from sklearn.linear_model import LogisticRegression\n",
    "from sklearn.ensemble import RandomForestClassifier\n",
    "from lightgbm import LGBMClassifier"
   ]
  },
  {
   "cell_type": "code",
   "execution_count": 2,
   "metadata": {},
   "outputs": [],
   "source": [
    "def cor_selector(X : pd.DataFrame, y : pd.Series, num_feats : int):\n",
    "    # Your code goes here (Multiple lines)\n",
    "    cor_list = []\n",
    "    feature_name = X.columns.tolist()\n",
    "    for i in feature_name:\n",
    "        print(X[i], y)\n",
    "        cor_list.append(np.corrcoef(X[i], y)[0, 1])\n",
    "    cor_list = [0 if np.isnan(i) else i for i in cor_list]\n",
    "    cor_feature = X.iloc[:, np.argsort(np.abs(cor_list))[-num_feats:]].columns.tolist()\n",
    "    cor_support = [True if i in cor_feature else False for i in feature_name]\n",
    "    # Your code ends here\n",
    "    return cor_support, cor_feature"
   ]
  },
  {
   "cell_type": "code",
   "execution_count": 3,
   "metadata": {},
   "outputs": [],
   "source": [
    "def chi_squared_selector(X : pd.DataFrame, y : pd.Series, num_feats : int):\n",
    "    # Your code goes here (Multiple lines)\n",
    "    X_norm = MinMaxScaler().fit_transform(X)\n",
    "    chi_support = SelectKBest(chi2, k=num_feats).fit(X_norm, y).get_support()\n",
    "    chi_feature = X.loc[:, chi_support].columns.tolist()\n",
    "    # Your code ends here\n",
    "    return chi_support, chi_feature"
   ]
  },
  {
   "cell_type": "code",
   "execution_count": 4,
   "metadata": {},
   "outputs": [],
   "source": [
    "def rfe_selector(X : pd.DataFrame, y : pd.Series, num_feats : int):\n",
    "    # Your code goes here (Multiple lines)\n",
    "    rfe_selector = RFE(estimator=LogisticRegression(),\n",
    "                       n_features_to_select=num_feats,\n",
    "                       step=10,\n",
    "                       verbose=5)\n",
    "    rfe_selector.fit(X, y)\n",
    "    rfe_support = rfe_selector.get_support()\n",
    "    rfe_feature = X.loc[:, rfe_support].columns.tolist()\n",
    "    # Your code ends here\n",
    "    return rfe_support, rfe_feature"
   ]
  },
  {
   "cell_type": "code",
   "execution_count": 5,
   "metadata": {},
   "outputs": [],
   "source": [
    "def embedded_log_reg_selector(X : pd.DataFrame, y : pd.Series, num_feats : int):\n",
    "    # Your code goes here (Multiple lines)\n",
    "    embedded_lr_selector = SelectFromModel(LogisticRegression(penalty='l2'), max_features=num_feats)\n",
    "    embedded_lr_selector.fit(X, y)\n",
    "    embedded_lr_support = embedded_lr_selector.get_support()\n",
    "    embedded_lr_feature = X.loc[:, embedded_lr_support].columns.tolist()\n",
    "    # Your code ends here\n",
    "    return embedded_lr_support, embedded_lr_feature"
   ]
  },
  {
   "cell_type": "code",
   "execution_count": 6,
   "metadata": {},
   "outputs": [],
   "source": [
    "def embedded_rf_selector(X : pd.DataFrame, y : pd.Series, num_feats : int):\n",
    "    # Your code goes here (Multiple lines)\n",
    "    embedded_rf_selector = SelectFromModel(RandomForestClassifier(n_estimators=100), max_features=num_feats)\n",
    "    embedded_rf_selector.fit(X, y)\n",
    "    embedded_rf_support = embedded_rf_selector.get_support()\n",
    "    embedded_rf_feature = X.loc[:, embedded_rf_support].columns.tolist()\n",
    "    # Your code ends here\n",
    "    return embedded_rf_support, embedded_rf_feature"
   ]
  },
  {
   "cell_type": "code",
   "execution_count": 7,
   "metadata": {},
   "outputs": [],
   "source": [
    "def embedded_lgbm_selector(X : pd.DataFrame, y : pd.Series, num_feats : int):\n",
    "    # Your code goes here (Multiple lines)\n",
    "    lgbc = LGBMClassifier(n_estimators=500, learning_rate=0.05, num_leaves=32, colsample_bytree=0.2,\n",
    "                          reg_alpha=3, reg_lambda=1, min_split_gain=0.01, min_child_weight=40)\n",
    "    embedded_lgb_selector = SelectFromModel(lgbc, max_features=num_feats)\n",
    "    embedded_lgb_selector.fit(X, y)\n",
    "    embedded_lgbm_support = embedded_lgb_selector.get_support()\n",
    "    embedded_lgbm_feature = X.loc[:, embedded_lgbm_support].columns.tolist()\n",
    "    # Your code ends here\n",
    "    return embedded_lgbm_support, embedded_lgbm_feature"
   ]
  },
  {
   "cell_type": "code",
   "execution_count": 12,
   "metadata": {},
   "outputs": [],
   "source": [
    "def autoFeatureSelector(X: pd.DataFrame, y: pd.Series, methods: list, max_number_of_features: int, num_feats: int):\n",
    "\n",
    "    feature_list = []\n",
    "    if 'pearson' in methods:\n",
    "        cor_support, cor_feature = cor_selector(X, y,num_feats)\n",
    "        feature_list += cor_feature\n",
    "    if 'chi-square' in methods:\n",
    "        chi_support, chi_feature = chi_squared_selector(X, y,num_feats)\n",
    "        feature_list += chi_feature\n",
    "    if 'rfe' in methods:\n",
    "        rfe_support, rfe_feature = rfe_selector(X, y,num_feats)\n",
    "        feature_list += rfe_feature\n",
    "    if 'log-reg' in methods:\n",
    "        embedded_lr_support, embedded_lr_feature = embedded_log_reg_selector(X, y, num_feats)\n",
    "        feature_list += embedded_lr_feature\n",
    "    if 'rf' in methods:\n",
    "        embedded_rf_support, embedded_rf_feature = embedded_rf_selector(X, y, num_feats)\n",
    "        feature_list += embedded_rf_feature\n",
    "    if 'lgbm' in methods:\n",
    "        embedded_lgbm_support, embedded_lgbm_feature = embedded_lgbm_selector(X, y, num_feats)\n",
    "        feature_list += embedded_lgbm_feature\n",
    "    \n",
    "    \n",
    "    best_features = pd.DataFrame({'features': feature_list}).value_counts().head(max_number_of_features)\n",
    "    return best_features\n"
   ]
  },
  {
   "cell_type": "code",
   "execution_count": null,
   "metadata": {},
   "outputs": [],
   "source": []
  },
  {
   "cell_type": "code",
   "execution_count": null,
   "metadata": {},
   "outputs": [],
   "source": []
  }
 ],
 "metadata": {
  "kernelspec": {
   "display_name": "Python 3",
   "language": "python",
   "name": "python3"
  },
  "language_info": {
   "codemirror_mode": {
    "name": "ipython",
    "version": 3
   },
   "file_extension": ".py",
   "mimetype": "text/x-python",
   "name": "python",
   "nbconvert_exporter": "python",
   "pygments_lexer": "ipython3",
   "version": "3.12.3"
  }
 },
 "nbformat": 4,
 "nbformat_minor": 2
}
