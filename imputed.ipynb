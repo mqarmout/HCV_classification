{
 "cells": [
  {
   "cell_type": "code",
   "execution_count": null,
   "metadata": {},
   "outputs": [],
   "source": [
    "import pandas as pd\n",
    "import matplotlib.pyplot as plt\n",
    "from sklearn.pipeline import Pipeline\n",
    "from sklearn.experimental import enable_iterative_imputer\n",
    "from sklearn.impute import IterativeImputer\n",
    "from sklearn.preprocessing import StandardScaler\n",
    "from sklearn.model_selection import train_test_split"
   ]
  },
  {
   "cell_type": "code",
   "execution_count": null,
   "metadata": {},
   "outputs": [],
   "source": [
    "def impute(dataset_path: str, targets: str):\n",
    "    data = pd.read_csv(filepath_or_buffer=\"hcvdat0.csv\", index_col=[0])\n",
    "\n",
    "    y = data[targets]\n",
    "    X = data.drop([targets], axis=1)\n",
    "\n",
    "    categorical_cols = [cname for cname in X.columns if X[cname].dtype == \"object\"]\n",
    "    \n",
    "    data_split_catagories = pd.get_dummies(X[categorical_cols])\n",
    "    X = pd.concat([X, data_split_catagories], axis=1)\n",
    "    X = X.drop(\"Sex\", axis=1)\n",
    "\n",
    "    numerical_transformer = Pipeline(steps = [\n",
    "        ('imputer', IterativeImputer(max_iter=10, random_state=0)),    \n",
    "        ('scale', StandardScaler())\n",
    "    ])\n",
    "\n",
    "    imputed_data = pd.DataFrame(numerical_transformer.fit_transform(X), columns=X.columns)\n",
    "    final_data = pd.concat([imputed_data, y], axis=1)\n",
    "    final_data.dropna(axis=0, inplace=True)\n",
    "    return final_data"
   ]
  }
 ],
 "metadata": {
  "language_info": {
   "name": "python"
  }
 },
 "nbformat": 4,
 "nbformat_minor": 2
}
